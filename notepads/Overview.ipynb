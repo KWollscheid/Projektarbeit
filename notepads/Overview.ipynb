{
 "cells": [
  {
   "cell_type": "markdown",
   "metadata": {},
   "source": [
    "## Overview"
   ]
  },
  {
   "cell_type": "code",
   "execution_count": 29,
   "metadata": {},
   "outputs": [
    {
     "name": "stdout",
     "output_type": "stream",
     "text": [
      "       fixed acidity  volatile acidity  citric acid  residual sugar  \\\n",
      "count    1599.000000       1599.000000  1599.000000     1599.000000   \n",
      "mean        8.319637          0.527821     0.270976        2.538806   \n",
      "std         1.741096          0.179060     0.194801        1.409928   \n",
      "min         4.600000          0.120000     0.000000        0.900000   \n",
      "25%         7.100000          0.390000     0.090000        1.900000   \n",
      "50%         7.900000          0.520000     0.260000        2.200000   \n",
      "75%         9.200000          0.640000     0.420000        2.600000   \n",
      "max        15.900000          1.580000     1.000000       15.500000   \n",
      "\n",
      "         chlorides  free sulfur dioxide  total sulfur dioxide      density  \\\n",
      "count  1599.000000          1599.000000           1599.000000  1599.000000   \n",
      "mean      0.087467            15.874922             46.467792     0.996747   \n",
      "std       0.047065            10.460157             32.895324     0.001887   \n",
      "min       0.012000             1.000000              6.000000     0.990070   \n",
      "25%       0.070000             7.000000             22.000000     0.995600   \n",
      "50%       0.079000            14.000000             38.000000     0.996750   \n",
      "75%       0.090000            21.000000             62.000000     0.997835   \n",
      "max       0.611000            72.000000            289.000000     1.003690   \n",
      "\n",
      "                pH    sulphates      alcohol      quality  \n",
      "count  1599.000000  1599.000000  1599.000000  1599.000000  \n",
      "mean      3.311113     0.658149    10.422983     5.636023  \n",
      "std       0.154386     0.169507     1.065668     0.807569  \n",
      "min       2.740000     0.330000     8.400000     3.000000  \n",
      "25%       3.210000     0.550000     9.500000     5.000000  \n",
      "50%       3.310000     0.620000    10.200000     6.000000  \n",
      "75%       3.400000     0.730000    11.100000     6.000000  \n",
      "max       4.010000     2.000000    14.900000     8.000000  \n"
     ]
    }
   ],
   "source": [
    "import pandas as pd\n",
    "import numpy as np\n",
    "from sklearn.preprocessing import MinMaxScaler\n",
    "from sklearn.model_selection import train_test_split\n",
    "from sklearn.tree import DecisionTreeClassifier, DecisionTreeRegressor\n",
    "from sklearn.neighbors import KNeighborsClassifier, KNeighborsRegressor\n",
    "from sklearn.ensemble import RandomForestClassifier, RandomForestRegressor, VotingClassifier\n",
    "from sklearn.linear_model import LogisticRegression\n",
    "\n",
    "# load data \n",
    "red = pd.read_csv(\"C:/Users\\Klaus\\OneDrive\\Dokumente\\Weiterbildungen\\Data Scientist\\Projektarbeit\\data\\winequality-red.csv\",sep=\";\")\n",
    "white = pd.read_csv(\"C:/Users\\Klaus\\OneDrive\\Dokumente\\Weiterbildungen\\Data Scientist\\Projektarbeit\\data\\winequality-white.csv\",sep=\";\")\n",
    "\n",
    "# overview of data\n",
    "print(red.describe())\n",
    "# print(white.describe())"
   ]
  },
  {
   "cell_type": "markdown",
   "metadata": {},
   "source": [
    "## Preprocessing"
   ]
  },
  {
   "cell_type": "code",
   "execution_count": 60,
   "metadata": {},
   "outputs": [],
   "source": [
    "## Normalizing the Dataset\n",
    "# Split x and y, since only x values should be scaled\n",
    "x = red.drop(columns=\"quality\")\n",
    "y = red.quality.values\n",
    "\n",
    "# Initialize Scaler\n",
    "scaler = MinMaxScaler()\n",
    "# Scale dataset\n",
    "xs = pd.DataFrame(scaler.fit_transform(x),columns=list(red)[0:-1])\n",
    "\n",
    "## Split into test and train dataset\n",
    "\n",
    "x_train, x_test, y_train, y_test = train_test_split(xs, y)\n"
   ]
  },
  {
   "cell_type": "markdown",
   "metadata": {},
   "source": [
    "## Decision Trees"
   ]
  },
  {
   "cell_type": "code",
   "execution_count": null,
   "metadata": {},
   "outputs": [],
   "source": [
    "## Initialize Models\n",
    "\n",
    "dtc = DecisionTreeClassifier()\n",
    "dtr = DecisionTreeRegressor()\n",
    "\n",
    "# estimate optimal parameters\n",
    "\n"
   ]
  },
  {
   "cell_type": "code",
   "execution_count": 82,
   "metadata": {},
   "outputs": [
    {
     "name": "stdout",
     "output_type": "stream",
     "text": [
      "Model: DecisionTreeClassifier\n",
      "Accurracy: 0.6075\n",
      "______________________________\n",
      "Model: DecisionTreeRegressor\n",
      "Accurracy: 0.026306798770071582\n",
      "______________________________\n"
     ]
    }
   ],
   "source": [
    "\n",
    "\n",
    "## Initialize Models\n",
    "dtc = DecisionTreeClassifier()\n",
    "dtr = DecisionTreeRegressor()\n",
    "\n",
    "dtc.fit(x_train, y_train)\n",
    "\n",
    "models = [dtc, dtr]\n",
    "\n",
    "\n",
    "for model in models:\n",
    "\n",
    "    model.fit(x_train, y_train)\n",
    "    eval = model.score(x_test, y_test)\n",
    "\n",
    "    print(\"Model: {}\".format(model.__class__.__name__))\n",
    "    # print(\"Parameters:{}\".format(model.get_params()))\n",
    "    print(\"Accurracy: {}\".format(eval))\n",
    "    print(\"______________________________\")\n",
    "\n",
    "\n",
    "\n"
   ]
  }
 ],
 "metadata": {
  "interpreter": {
   "hash": "13eb0af71620a846e484681143862ad0a4deab6cadfc353264e5c14897c11035"
  },
  "kernelspec": {
   "display_name": "Python 3.9.9 64-bit",
   "language": "python",
   "name": "python3"
  },
  "language_info": {
   "codemirror_mode": {
    "name": "ipython",
    "version": 3
   },
   "file_extension": ".py",
   "mimetype": "text/x-python",
   "name": "python",
   "nbconvert_exporter": "python",
   "pygments_lexer": "ipython3",
   "version": "3.9.9"
  },
  "orig_nbformat": 4
 },
 "nbformat": 4,
 "nbformat_minor": 2
}
